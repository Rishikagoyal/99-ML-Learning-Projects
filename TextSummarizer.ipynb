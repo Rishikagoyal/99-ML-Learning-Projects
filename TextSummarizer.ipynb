{
  "nbformat": 4,
  "nbformat_minor": 0,
  "metadata": {
    "colab": {
      "provenance": [],
      "authorship_tag": "ABX9TyNSQId38y5jApskzqMPjP8/",
      "include_colab_link": true
    },
    "kernelspec": {
      "name": "python3",
      "display_name": "Python 3"
    },
    "language_info": {
      "name": "python"
    }
  },
  "cells": [
    {
      "cell_type": "markdown",
      "metadata": {
        "id": "view-in-github",
        "colab_type": "text"
      },
      "source": [
        "<a href=\"https://colab.research.google.com/github/Rishikagoyal/99-ML-Learning-Projects/blob/master/TextSummarizer.ipynb\" target=\"_parent\"><img src=\"https://colab.research.google.com/assets/colab-badge.svg\" alt=\"Open In Colab\"/></a>"
      ]
    },
    {
      "cell_type": "code",
      "execution_count": 21,
      "metadata": {
        "colab": {
          "base_uri": "https://localhost:8080/"
        },
        "id": "YwJp56DVs5sY",
        "outputId": "e0da34f8-1e56-4886-a299-703be6306cb7"
      },
      "outputs": [
        {
          "output_type": "stream",
          "name": "stderr",
          "text": [
            "[nltk_data] Downloading package punkt to /root/nltk_data...\n",
            "[nltk_data]   Package punkt is already up-to-date!\n",
            "[nltk_data] Downloading package stopwords to /root/nltk_data...\n",
            "[nltk_data]   Package stopwords is already up-to-date!\n"
          ]
        },
        {
          "output_type": "stream",
          "name": "stdout",
          "text": [
            "Please enter text to summarize\n",
            "There are many techniques available to generate extractive summarization to keep it simple, I will be using an unsupervised learning approach to find the sentences similarity and rank them. Summarization can be defined as a task of producing a concise and fluent summary while preserving key information and overall meaning. One benefit of this will be, you don’t need to train and build a model prior start using it for your project. It’s good to understand Cosine similarity to make the best use of the code you are going to see. Cosine similarity is a measure of similarity between two non-zero vectors of an inner product space that measures the cosine of the angle between them. Its measures cosine of the angle between vectors. The angle will be 0 if sentences are similar.\n",
            "{'many': 1, 'techniques': 1, 'available': 1, 'generate': 1, 'extractive': 1, 'summarization': 2, 'keep': 1, 'simple': 1, ',': 2, 'using': 2, 'unsupervised': 1, 'learning': 1, 'approach': 1, 'find': 1, 'sentences': 2, 'similarity': 4, 'rank': 1, '.': 7, 'defined': 1, 'task': 1, 'producing': 1, 'concise': 1, 'fluent': 1, 'summary': 1, 'preserving': 1, 'key': 1, 'information': 1, 'overall': 1, 'meaning': 1, 'one': 1, 'benefit': 1, '’': 2, 'need': 1, 'train': 1, 'build': 1, 'model': 1, 'prior': 1, 'start': 1, 'project': 1, 'good': 1, 'understand': 1, 'cosine': 4, 'make': 1, 'best': 1, 'use': 1, 'code': 1, 'going': 1, 'see': 1, 'measure': 1, 'two': 1, 'non-zero': 1, 'vectors': 2, 'inner': 1, 'product': 1, 'space': 1, 'measures': 2, 'angle': 3, '0': 1, 'similar': 1}\n",
            " There are many techniques available to generate extractive summarization to keep it simple, I will be using an unsupervised learning approach to find the sentences similarity and rank them. Cosine similarity is a measure of similarity between two non-zero vectors of an inner product space that measures the cosine of the angle between them.\n"
          ]
        }
      ],
      "source": [
        "import nltk\n",
        "nltk.download('punkt')\n",
        "nltk.download('stopwords')\n",
        "from nltk.corpus import stopwords\n",
        "from nltk.tokenize import word_tokenize,sent_tokenize\n",
        "\n",
        "#set of stopwords in english\n",
        "stopWords=set(stopwords.words(\"english\"))\n",
        "\n",
        "#taking input from user to summarize\n",
        "text=input(\"Please enter text to summarize\\n\")\n",
        "words=word_tokenize(text)\n",
        "freqTable=dict()\n",
        "\n",
        "for word in words:\n",
        "  word=word.lower()\n",
        "  if word in stopWords:\n",
        "    continue\n",
        "  if word in freqTable:\n",
        "    freqTable[word]+=1\n",
        "  else:\n",
        "    freqTable[word]=1\n",
        "\n",
        "print(freqTable)\n",
        "\n",
        "\n",
        "sentences=sent_tokenize(text)\n",
        "sentenceValue=dict()\n",
        "\n",
        "for sentence in sentences:\n",
        "  for word,freq in freqTable.items():\n",
        "    if word in sentence.lower():\n",
        "      if sentence in sentenceValue:\n",
        "        sentenceValue[sentence]+=freq\n",
        "      else:\n",
        "        sentenceValue[sentence]=freq\n",
        "\n",
        "sumValues=0\n",
        "for sentence in sentenceValue:\n",
        "  sumValues+=sentenceValue[sentence]\n",
        "\n",
        "average=int(sumValues/len(sentenceValue))\n",
        "\n",
        "summary=\"\"\n",
        "for sentence in sentences:\n",
        "  if(sentence in sentenceValue) and (sentenceValue[sentence]>(1.2*average)):\n",
        "    summary+=\" \"+sentence\n",
        "\n",
        "print(summary)\n",
        "\n",
        "\n",
        "\n",
        "\n",
        "\n"
      ]
    }
  ]
}